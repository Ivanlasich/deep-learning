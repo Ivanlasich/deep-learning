{
  "nbformat": 4,
  "nbformat_minor": 0,
  "metadata": {
    "colab": {
      "name": "[homework]embeddings (1).ipynb",
      "private_outputs": true,
      "provenance": [],
      "collapsed_sections": []
    },
    "kernelspec": {
      "name": "python3",
      "display_name": "Python 3"
    },
    "accelerator": "GPU"
  },
  "cells": [
    {
      "cell_type": "markdown",
      "metadata": {
        "id": "Ot3c4fjZwC4T"
      },
      "source": [
        "\n",
        "<img src=\"https://s8.hostingkartinok.com/uploads/images/2018/08/308b49fcfbc619d629fe4604bceb67ac.jpg\" width=500, height=450>\n",
        "<h3 style=\"text-align: center;\"><b>Физтех-Школа Прикладной математики и информатики (ФПМИ) МФТИ</b></h3>"
      ]
    },
    {
      "cell_type": "markdown",
      "metadata": {
        "id": "P2JdzEXmwRU5"
      },
      "source": [
        "---"
      ]
    },
    {
      "cell_type": "markdown",
      "metadata": {
        "id": "eYtJxkhKpYK2"
      },
      "source": [
        "# Embeddings\n",
        "\n",
        "Привет! В этом домашнем задании мы с помощью эмбеддингов решим задачу семантической классификации твитов.\n",
        "\n",
        "Для этого мы воспользуемся предобученными эмбеддингами word2vec."
      ]
    },
    {
      "cell_type": "markdown",
      "metadata": {
        "id": "jBOdoFS8AdpP"
      },
      "source": [
        "Для начала скачаем датасет для семантической классификации твитов:"
      ]
    },
    {
      "cell_type": "code",
      "metadata": {
        "id": "wXjhtsfF_gBK"
      },
      "source": [
        "!gdown https://drive.google.com/uc?id=1eE1FiUkXkcbw0McId4i7qY-L8hH-_Qph&export=download\n",
        "!unzip archive.zip"
      ],
      "execution_count": null,
      "outputs": []
    },
    {
      "cell_type": "markdown",
      "metadata": {
        "id": "Sh6wW-K53Mle"
      },
      "source": [
        "Импортируем нужные библиотеки:"
      ]
    },
    {
      "cell_type": "code",
      "metadata": {
        "id": "A2Y5CHRm6NFe"
      },
      "source": [
        "import math\n",
        "import random\n",
        "import string\n",
        "\n",
        "import numpy as np\n",
        "import pandas as pd\n",
        "import seaborn as sns\n",
        "\n",
        "import torch\n",
        "import nltk\n",
        "import gensim\n",
        "import gensim.downloader as api"
      ],
      "execution_count": null,
      "outputs": []
    },
    {
      "cell_type": "code",
      "metadata": {
        "id": "73Lb0wbESrgQ"
      },
      "source": [
        "random.seed(42)\n",
        "np.random.seed(42)\n",
        "torch.random.manual_seed(42)\n",
        "torch.cuda.random.manual_seed(42)\n",
        "torch.cuda.random.manual_seed_all(42)\n",
        "\n",
        "device = \"cuda\" if torch.cuda.is_available() else \"cpu\""
      ],
      "execution_count": null,
      "outputs": []
    },
    {
      "cell_type": "code",
      "metadata": {
        "id": "L_Wv-4bu83Fl"
      },
      "source": [
        "data = pd.read_csv(\"training.1600000.processed.noemoticon.csv\", encoding=\"latin\", header=None, names=[\"emotion\", \"id\", \"date\", \"flag\", \"user\", \"text\"])"
      ],
      "execution_count": null,
      "outputs": []
    },
    {
      "cell_type": "markdown",
      "metadata": {
        "id": "RY1pvYDS3Yuj"
      },
      "source": [
        "Посмотрим на данные:"
      ]
    },
    {
      "cell_type": "code",
      "metadata": {
        "id": "jST2tjgjCTWD"
      },
      "source": [
        "data.head()"
      ],
      "execution_count": null,
      "outputs": []
    },
    {
      "cell_type": "markdown",
      "metadata": {
        "id": "OhbR5JJyA2VW"
      },
      "source": [
        "Выведем несколько примеров твитов, чтобы понимать, с чем мы имеем дело:\r\n",
        "\r\n"
      ]
    },
    {
      "cell_type": "code",
      "metadata": {
        "id": "kCBwe0wR83C2"
      },
      "source": [
        "examples = data[\"text\"].sample(10)\n",
        "print(\"\\n\".join(examples))"
      ],
      "execution_count": null,
      "outputs": []
    },
    {
      "cell_type": "markdown",
      "metadata": {
        "id": "GvcYW8aX3mKt"
      },
      "source": [
        "Как вилим, тексты твитов очень \"грязные\". Нужно предобработать датасет, прежде чем строить для него модель классификации.\n",
        "\n",
        "Чтобы сравнивать различные методы обработки текста/модели/прочее, разделим датасет на dev(для обучения модели) и test(для получения качества модели)."
      ]
    },
    {
      "cell_type": "markdown",
      "metadata": {
        "id": "6ivcpeFoCnZA"
      },
      "source": [
        "## Обработка текста"
      ]
    },
    {
      "cell_type": "markdown",
      "metadata": {
        "id": "Df4nca285Dar"
      },
      "source": [
        "Токенизируем текст, избавимся от знаков пунктуации и выкинем все слова, состоящие менее чем из 4 букв:"
      ]
    },
    {
      "cell_type": "code",
      "metadata": {
        "id": "nsNHNDES9ZVF"
      },
      "source": [
        "tokenizer = nltk.WordPunctTokenizer()\n",
        "line = tokenizer.tokenize(dev_data[\"text\"][0].lower())\n",
        "print(\" \".join(line))"
      ],
      "execution_count": null,
      "outputs": []
    },
    {
      "cell_type": "code",
      "metadata": {
        "id": "GcBS_u_hTuxp"
      },
      "source": [
        "filtered_line = [w for w in line if all(c not in string.punctuation for c in w) and len(w) > 3]\n",
        "print(\" \".join(filtered_line))"
      ],
      "execution_count": null,
      "outputs": []
    },
    {
      "cell_type": "code",
      "metadata": {
        "id": "QSLgBgIA4uWr"
      },
      "source": [
        "len(filtered_line)"
      ],
      "execution_count": null,
      "outputs": []
    },
    {
      "cell_type": "markdown",
      "metadata": {
        "id": "cuFmlXkC6E7X"
      },
      "source": [
        "Загрузим предобученную модель эмбеддингов. \n",
        "\n",
        "Если хотите, можно попробовать другую. Полный список можно найти здесь: https://github.com/RaRe-Technologies/gensim-data.\n",
        "\n",
        "Данная модель выдает эмбеддинги для **слов**. Строить по эмбеддингам слов эмбеддинги предложений мы будем ниже."
      ]
    },
    {
      "cell_type": "code",
      "metadata": {
        "id": "cACJpje2T5bc"
      },
      "source": [
        "word2vec = api.load(\"word2vec-google-news-300\")"
      ],
      "execution_count": null,
      "outputs": []
    },
    {
      "cell_type": "code",
      "metadata": {
        "id": "NafmYHrkT5YD"
      },
      "source": [
        "emb_line = [word2vec.get_vector(w) for w in filtered_line if w in word2vec]\n",
        "print(sum(emb_line).shape)"
      ],
      "execution_count": null,
      "outputs": []
    },
    {
      "cell_type": "code",
      "metadata": {
        "id": "Mf_Hzkr03YS2"
      },
      "source": [
        "print(word2vec.vectors.shape)"
      ],
      "execution_count": null,
      "outputs": []
    },
    {
      "cell_type": "markdown",
      "metadata": {
        "id": "LTS6LCkd6_E7"
      },
      "source": [
        "Нормализуем эмбеддинги, прежде чем обучать на них сеть. \n",
        "(наверное, вы помните, что нейронные сети гораздо лучше обучаются на нормализованных данных)"
      ]
    },
    {
      "cell_type": "code",
      "metadata": {
        "id": "3PyLTZ6xf3Oq"
      },
      "source": [
        "mean = np.mean(word2vec.vectors, 0)\n",
        "std = np.std(word2vec.vectors, 0)\n",
        "norm_emb_line = [(word2vec.get_vector(w) - mean) / std for w in filtered_line if w in word2vec and len(w) > 3]\n",
        "print(sum(norm_emb_line).shape)\n",
        "print([all(norm_emb_line[i] == emb_line[i]) for i in range(len(emb_line))])"
      ],
      "execution_count": null,
      "outputs": []
    },
    {
      "cell_type": "markdown",
      "metadata": {
        "id": "q7vm6Ppd7Ubw"
      },
      "source": [
        "Сделаем датасет, который будет по запросу возвращать подготовленные данные."
      ]
    },
    {
      "cell_type": "code",
      "metadata": {
        "id": "b4eZajF7pZ1X"
      },
      "source": [
        "from torch.utils.data import Dataset, random_split\n",
        "\n",
        "\n",
        "class TwitterDataset(Dataset):\n",
        "    def __init__(self, data: pd.DataFrame, feature_column: str, target_column: str, word2vec: gensim.models.Word2Vec):\n",
        "        self.tokenizer = nltk.WordPunctTokenizer()\n",
        "        \n",
        "        self.data = data\n",
        "\n",
        "        self.feature_column = feature_column\n",
        "        self.target_column = target_column\n",
        "\n",
        "        self.word2vec = word2vec\n",
        "\n",
        "        self.label2num = lambda label: 0 if label == 0 else 1\n",
        "        self.mean = np.mean(word2vec.vectors, axis=0)\n",
        "        self.std = np.std(word2vec.vectors, axis=0)\n",
        "\n",
        "    def __getitem__(self, item):\n",
        "        text = self.data[self.feature_column][item]\n",
        "        label = self.label2num(self.data[self.target_column][item])\n",
        "\n",
        "        tokens = self.get_tokens_(text)\n",
        "        embeddings = self.get_embeddings_(tokens)\n",
        "\n",
        "        return {\"feature\": embeddings, \"target\": label}\n",
        "\n",
        "    def get_tokens_(self, text):\n",
        "        # Получи все токены из текста и профильтруй их\n",
        "        line = self.tokenizer.tokenize(text.lower())\n",
        "        filtered_line = [w for w in line if all(c not in string.punctuation for c in w) and len(w) > 3]\n",
        "        return filtered_line\n",
        "\n",
        "\n",
        "\n",
        "    def get_embeddings_(self, tokens):\n",
        "        # Получи эмбеддинги слов и усредни их\n",
        "        embeddings = [(self.word2vec.get_vector(w) - self.mean) / self.std for w in tokens if w in self.word2vec and len(w) > 3]\n",
        "\n",
        "        if len(embeddings) == 0:\n",
        "            embeddings = np.zeros((1, self.word2vec.vector_size))\n",
        "        else:\n",
        "            #embeddings = np.mean(embeddings, axis=0)\n",
        "            embeddings = np.array(embeddings)\n",
        "            if len(embeddings.shape) == 1:\n",
        "                \n",
        "                embeddings = embeddings.reshape(-1, 1)\n",
        "\n",
        "        return embeddings\n",
        "\n",
        "    def __len__(self):\n",
        "        return self.data.shape[0]"
      ],
      "execution_count": null,
      "outputs": []
    },
    {
      "cell_type": "code",
      "metadata": {
        "id": "f-R5Ag9lgZom"
      },
      "source": [
        "dev = TwitterDataset(dev_data, \"text\", \"emotion\", word2vec)"
      ],
      "execution_count": null,
      "outputs": []
    },
    {
      "cell_type": "code",
      "metadata": {
        "id": "L-18sLfaCiPV"
      },
      "source": [
        "word2vec.get_vector(\"text\").shape"
      ],
      "execution_count": null,
      "outputs": []
    },
    {
      "cell_type": "markdown",
      "metadata": {
        "id": "Sr-aetH0_LH1"
      },
      "source": [
        "Отлично, мы готовы с помощью эмбеддингов слов превращать твиты в векторы и обучать нейронную сеть.\n",
        "\n",
        "Превращать твиты в векторы, используя эмбеддинги слов, можно несколькими способами. А именно такими:"
      ]
    },
    {
      "cell_type": "markdown",
      "metadata": {
        "id": "4AhHrWa196Yc"
      },
      "source": [
        "## Average embedding (2 балла)\n",
        "---\n",
        "Это самый простой вариант, как получить вектор предложения, используя векторные представления слов в предложении. А именно: вектор предложения есть средний вектор всех слов в предлоежнии (которые остались после токенизации и удаления коротких слов, конечно). "
      ]
    },
    {
      "cell_type": "code",
      "metadata": {
        "id": "ScdokSW-994t"
      },
      "source": [
        "indexes = np.arange(len(dev))\n",
        "np.random.shuffle(indexes)\n",
        "example_indexes = indexes[::1000]\n",
        "\n",
        "examples = {\"features\": [np.sum(dev[i][\"feature\"], axis=0) for i in example_indexes], \n",
        "            \"targets\": [dev[i][\"target\"] for i in example_indexes]}\n",
        "print(len(examples[\"features\"]))"
      ],
      "execution_count": null,
      "outputs": []
    },
    {
      "cell_type": "markdown",
      "metadata": {
        "id": "1yGQ_lOx_1NL"
      },
      "source": [
        "Давайте сделаем визуализацию полученных векторов твитов тренировочного (dev) датасета. Так мы увидим, насколько хорошо твиты с разными target значениями отделяются друг от друга, т.е. насколько хорошо усреднение эмбеддингов слов предложения передает информацию о предложении."
      ]
    },
    {
      "cell_type": "markdown",
      "metadata": {
        "id": "LZwFksd_8uYO"
      },
      "source": [
        "Для визуализации векторов надо получить их проекцию на плоскость. Сделаем это с помощью `PCA`. Если хотите, можете вместо PCA использовать TSNE: так у вас получится более точная проекция на плоскость (а значит, более информативная, т.е. отражающая реальное положение векторов твитов в пространстве). Но TSNE будет работать намного дольше."
      ]
    },
    {
      "cell_type": "code",
      "metadata": {
        "id": "aKFZRSHdtIac"
      },
      "source": [
        "from sklearn.decomposition import PCA\n",
        "\n",
        "\n",
        "pca = PCA(n_components=2)\n",
        "examples[\"transformed_features\"] = pca.fit_transform(examples[\"features\"])# Обучи PCA на эмбеддингах слов"
      ],
      "execution_count": null,
      "outputs": []
    },
    {
      "cell_type": "code",
      "metadata": {
        "id": "szEOWdiNtIX8"
      },
      "source": [
        "import bokeh.models as bm, bokeh.plotting as pl\n",
        "from bokeh.io import output_notebook\n",
        "output_notebook()\n",
        "\n",
        "def draw_vectors(x, y, radius=10, alpha=0.25, color='blue',\n",
        "                 width=600, height=400, show=True, **kwargs):\n",
        "    \"\"\" draws an interactive plot for data points with auxilirary info on hover \"\"\"\n",
        "    data_source = bm.ColumnDataSource({ 'x' : x, 'y' : y, 'color': color, **kwargs })\n",
        "\n",
        "    fig = pl.figure(active_scroll='wheel_zoom', width=width, height=height)\n",
        "    fig.scatter('x', 'y', size=radius, color='color', alpha=alpha, source=data_source)\n",
        "\n",
        "    fig.add_tools(bm.HoverTool(tooltips=[(key, \"@\" + key) for key in kwargs.keys()]))\n",
        "    if show: pl.show(fig)\n",
        "    return fig"
      ],
      "execution_count": null,
      "outputs": []
    },
    {
      "cell_type": "code",
      "metadata": {
        "id": "12xEDq98sB5L"
      },
      "source": [
        "examples[\"transformed_features\"]"
      ],
      "execution_count": null,
      "outputs": []
    },
    {
      "cell_type": "code",
      "metadata": {
        "id": "7OONK8ldtIWe"
      },
      "source": [
        "draw_vectors(\n",
        "    examples[\"transformed_features\"][:, 0], \n",
        "    examples[\"transformed_features\"][:, 1], \n",
        "    color=[[\"red\", \"blue\"][t] for t in examples[\"targets\"]]\n",
        "    )"
      ],
      "execution_count": null,
      "outputs": []
    },
    {
      "cell_type": "markdown",
      "metadata": {
        "id": "0fNF6LRQ9MPI"
      },
      "source": [
        "Скорее всего, на визуализации нет четкого разделения твитов между классами. Это значит, что по полученным нами векторам твитов не так-то просто определить, к какому классу твит пренадлежит. Значит, обычный линейный классификатор не очень хорошо справится с задачей. Надо будет делать глубокую (хотя бы два слоя) нейронную сеть.\n",
        "\n",
        "Подготовим загрузчики данных.\n",
        "Усреднее векторов будем делать в \"батчевалке\"(`collate_fn`). Она используется для того, чтобы собирать из данных `torch.Tensor` батчи, которые можно отправлять в модель.\n"
      ]
    },
    {
      "cell_type": "code",
      "metadata": {
        "id": "y1XapsADtITv"
      },
      "source": [
        "from torch.utils.data import DataLoader\n",
        "\n",
        "\n",
        "batch_size = 1024\n",
        "num_workers = 4\n",
        "\n",
        "def average_emb(batch):\n",
        "    features = [np.mean(b[\"feature\"], axis=0) for b in batch]\n",
        "    targets = [b[\"target\"] for b in batch]\n",
        "\n",
        "    return {\"features\": torch.FloatTensor(features), \"targets\": torch.LongTensor(targets).to(torch.float32)}\n",
        "\n",
        "\n",
        "train_size = math.ceil(len(dev) * 0.8)\n",
        "\n",
        "train, valid = random_split(dev, [train_size, len(dev) - train_size])\n",
        "\n",
        "train_loader = DataLoader(train, batch_size=batch_size, num_workers=num_workers, shuffle=True, drop_last=True, collate_fn=average_emb)\n",
        "valid_loader = DataLoader(valid, batch_size=batch_size, num_workers=num_workers, shuffle=False, drop_last=False, collate_fn=average_emb)"
      ],
      "execution_count": null,
      "outputs": []
    },
    {
      "cell_type": "markdown",
      "metadata": {
        "id": "p-zs0WEK-Vkt"
      },
      "source": [
        "Определим функции для тренировки и теста модели:"
      ]
    },
    {
      "cell_type": "code",
      "metadata": {
        "id": "U--T2Gjw1r27"
      },
      "source": [
        "from tqdm.notebook import tqdm\n",
        "from sklearn.metrics import accuracy_score\n",
        "import pdb;\n",
        "\n",
        "def training(model, optimizer, criterion, train_loader, epoch, device=\"cpu\"):\n",
        "    pbar = tqdm(train_loader, desc=f\"Epoch {e + 1}. Train Loss: {0}\")\n",
        "    model.train()\n",
        "    for batch in pbar:\n",
        "        #pdb.set_trace()\n",
        "        features = batch[\"features\"].to(device)\n",
        "        targets = batch[\"targets\"].to(device)\n",
        "\n",
        "        optimizer.zero_grad()\n",
        "        #pdb.set_trace()\n",
        "        # Получи предсказания модели\n",
        "        outputs = model(features)\n",
        "\n",
        "        # Посчитай лосс\n",
        "        loss = criterion(outputs, targets)\n",
        "        \n",
        "\n",
        "        # Обнови параметры модели\n",
        "        loss.backward()\n",
        "        optimizer.step()\n",
        "\n",
        "        pbar.set_description(f\"Epoch {e + 1}. Train Loss: {loss:.4}\")\n",
        "    \n",
        "\n",
        "def testing(model, criterion, test_loader, device=\"cpu\"):\n",
        "    pbar = tqdm(test_loader, desc=f\"Test Loss: {0}, Test Acc: {0}\")\n",
        "    mean_loss = 0\n",
        "    mean_acc = 0\n",
        "    model.eval()\n",
        "    with torch.no_grad():\n",
        "        for batch in pbar:\n",
        "            features = batch[\"features\"].to(device)\n",
        "            targets = batch[\"targets\"].to(device)\n",
        "\n",
        "            # Получи предсказания модели\n",
        "            outputs = model(features)\n",
        "           \n",
        "            # Посчитай лосс\n",
        "            loss = criterion(outputs.cpu().data, targets.cpu().data)\n",
        "\n",
        "            acc = accuracy_score(targets.cpu().data, outputs.cpu().data.numpy().round()) # Посчитай точность модели\n",
        "\n",
        "            mean_loss += loss.item()\n",
        "            mean_acc += acc.item()\n",
        "\n",
        "            pbar.set_description(f\"Test Loss: {loss:.4}, Test Acc: {acc:.4}\")\n",
        "\n",
        "    pbar.set_description(f\"Test Loss: {mean_loss / len(test_loader):.4}, Test Acc: {mean_acc / len(test_loader):.4}\")\n",
        "\n",
        "    return {\"Test Loss\": mean_loss / len(test_loader), \"Test Acc\": mean_acc / len(test_loader)}"
      ],
      "execution_count": null,
      "outputs": []
    },
    {
      "cell_type": "markdown",
      "metadata": {
        "id": "oVg_XBBb-YBH"
      },
      "source": [
        "\n",
        "Создадим модель, оптимизатор и целевую функцию. Вы можете сами выбрать количество слоев в нейронной сети, ваш любимый оптимизатор и целевую функцию.\n"
      ]
    },
    {
      "cell_type": "code",
      "metadata": {
        "id": "xyK8c4YxixZF"
      },
      "source": [
        "import torch.nn as nn\r\n",
        "import torch.nn.functional as F\r\n",
        "\r\n",
        "class Net(nn.Module):\r\n",
        "    def __init__(self, hidden_size):\r\n",
        "        super(Net, self).__init__()\r\n",
        "        self.hidden_size = hidden_size\r\n",
        "        self.fc1 = nn.Linear(self.hidden_size, 1000)\r\n",
        "        self.fc2 = nn.Linear(1000, 1000)\r\n",
        "        self.fc3 = nn.Linear(1000, 1)\r\n",
        "        self.fc4 = nn.Sigmoid()\r\n",
        "\r\n",
        "    def forward(self, x):\r\n",
        "        x = F.relu((self.fc1(x)))\r\n",
        "        x = F.relu((self.fc2(x)))\r\n",
        "        x = nn.Sigmoid()((self.fc3(x)))\r\n",
        "        #x = nn.Dropout(p=0.2)(self.fc3(x))\r\n",
        "        #x = self.fc4(x)\r\n",
        "        \r\n",
        "        return x.reshape(-1)"
      ],
      "execution_count": null,
      "outputs": []
    },
    {
      "cell_type": "code",
      "metadata": {
        "id": "EBoZ4F3Fx1Hm"
      },
      "source": [
        "import torch.nn as nn\n",
        "from torch.optim import Adam\n",
        "\n",
        "\n",
        "# Не забудь поиграться с параметрами ;)\n",
        "vector_size = dev.word2vec.vector_size\n",
        "num_classes = 2\n",
        "lr = 1e-2\n",
        "num_epochs = 2\n",
        "\n",
        "model = Net(300)\n",
        "model = model.cuda()\n",
        "criterion = nn.BCELoss()\n",
        "optimizer = torch.optim.Adam(model.parameters())\n",
        "#optimizer = optim.SGD(model.parameters(), lr=0.001, momentum=0.9)\n"
      ],
      "execution_count": null,
      "outputs": []
    },
    {
      "cell_type": "markdown",
      "metadata": {
        "id": "-AitU8AR-zBj"
      },
      "source": [
        "Наконец, обучим модель и протестируем её.\n",
        "\n",
        "После каждой эпохи будем проверять качество модели на валидационной части датасета. Если метрика стала лучше, будем сохранять модель. **Подумайте, какая метрика (точность или лосс) будет лучше работать в этой задаче?** "
      ]
    },
    {
      "cell_type": "code",
      "metadata": {
        "id": "gKhk71Pmx1F1"
      },
      "source": [
        "#%debug\n",
        "best_metric = np.inf\n",
        "for e in range(num_epochs):\n",
        "    training(model, optimizer, criterion, train_loader, e, device)\n",
        "    log = testing(model, criterion, valid_loader, device)\n",
        "    print(log)\n",
        "    if log[\"Test Loss\"] < best_metric:\n",
        "        torch.save(model.state_dict(), \"model.pt\")\n",
        "        best_metric = log[\"Test Loss\"]"
      ],
      "execution_count": null,
      "outputs": []
    },
    {
      "cell_type": "code",
      "metadata": {
        "id": "di4dGwD4x1Dt"
      },
      "source": [
        "test_loader = DataLoader(\n",
        "    TwitterDataset(test_data, \"text\", \"emotion\", word2vec), \n",
        "    batch_size=batch_size, \n",
        "    num_workers=num_workers, \n",
        "    shuffle=False,\n",
        "    drop_last=False, \n",
        "    collate_fn=average_emb)\n",
        "\n",
        "model.load_state_dict(torch.load(\"model.pt\", map_location=device))\n",
        "\n",
        "print(testing(model, criterion, test_loader, device=device))"
      ],
      "execution_count": null,
      "outputs": []
    },
    {
      "cell_type": "markdown",
      "metadata": {
        "id": "ZRvzpldHSAu0"
      },
      "source": [
        "## Embeddings for unknown words (8 баллов)\n",
        "\n",
        "Пока что использовалась не вся информация из текста. Часть информации фильтровалось – если слова не было в словаре эмбеддингов, то мы просто превращали слово в нулевой вектор. Хочется использовать информацию по-максимуму. Поэтому рассмотрим другие способы обработки слов, которых нет в словаре. А именно:\n",
        "\n",
        "- Для каждого незнакомого слова будем запоминать его контекст(слова слева и справа от этого слова). Эмбеддингом нашего незнакомого слова будет сумма эмбеддингов всех слов из его контекста. (4 балла)\n",
        "- Для каждого слова текста получим его эмбеддинг из Tfidf с помощью ```TfidfVectorizer``` из [sklearn](https://scikit-learn.org/stable/modules/generated/sklearn.feature_extraction.text.TfidfVectorizer.html#sklearn.feature_extraction.text.TfidfVectorizer). Итоговым эмбеддингом для каждого слова будет сумма двух эмбеддингов: предобученного и Tfidf-ного. Для слов, которых нет в словаре предобученных эмбеддингов, результирующий эмбеддинг будет просто полученный из Tfidf. (4 балла)\n",
        "\n",
        "Реализуйте оба варианта **ниже**. Напишите, какой способ сработал лучше и ваши мысли, почему так получилось."
      ]
    },
    {
      "cell_type": "markdown",
      "metadata": {
        "id": "BQRoxEJ4-m1z"
      },
      "source": [
        "1-ый способ:"
      ]
    },
    {
      "cell_type": "code",
      "metadata": {
        "id": "RxhEpKalU1UQ"
      },
      "source": [
        "from torch.utils.data import Dataset, random_split\r\n",
        "import pdb;\r\n",
        "\r\n",
        "class TwitterDatasetWithContext(Dataset):\r\n",
        "    def __init__(self, data: pd.DataFrame, feature_column: str, target_column: str, word2vec: gensim.models.Word2Vec):\r\n",
        "        self.tokenizer = nltk.WordPunctTokenizer()\r\n",
        "        \r\n",
        "        self.data = data\r\n",
        "\r\n",
        "        self.feature_column = feature_column\r\n",
        "        self.target_column = target_column\r\n",
        "\r\n",
        "        self.word2vec = word2vec\r\n",
        "\r\n",
        "        self.label2num = lambda label: 0 if label == 0 else 1\r\n",
        "        self.mean = np.mean(word2vec.vectors, axis=0)\r\n",
        "        self.std = np.std(word2vec.vectors, axis=0)\r\n",
        "\r\n",
        "    def __getitem__(self, item):\r\n",
        "        text = self.data[self.feature_column][item]\r\n",
        "        label = self.label2num(self.data[self.target_column][item])\r\n",
        "\r\n",
        "        tokens = self.get_tokens_(text)\r\n",
        "        embeddings = self.get_embeddings_(tokens)\r\n",
        "\r\n",
        "        return {\"feature\": embeddings, \"target\": label}\r\n",
        "\r\n",
        "    def get_tokens_(self, text):\r\n",
        "        # Получи все токены из текста и профильтруй их\r\n",
        "        line = self.tokenizer.tokenize(text.lower())\r\n",
        "        filtered_line = [w for w in line if all(c not in string.punctuation for c in w) and len(w) > 3]\r\n",
        "        return filtered_line\r\n",
        "\r\n",
        "\r\n",
        "\r\n",
        "    def get_embeddings_(self, tokens):\r\n",
        "        # Получи эмбеддинги слов и усредни их\r\n",
        "        embeddings = self.get_embeddings_preproc(tokens)\r\n",
        "        #embeddings = [(self.word2vec.get_vector(w) - self.mean) / self.std for w in tokens if w in self.word2vec and len(w) > 3]\r\n",
        "\r\n",
        "        if len(embeddings) == 0:\r\n",
        "            embeddings = np.zeros((1, self.word2vec.vector_size))\r\n",
        "        else:\r\n",
        "            #embeddings = np.mean(embeddings, axis=0)\r\n",
        "            embeddings = np.array(embeddings)\r\n",
        "            if len(embeddings.shape) == 1:\r\n",
        "                \r\n",
        "                embeddings = embeddings.reshape(-1, 1)\r\n",
        "\r\n",
        "        return embeddings\r\n",
        "\r\n",
        "    def get_embeddings_preproc(self, tokens):\r\n",
        "        embeddings = []\r\n",
        "        for i, w in enumerate(tokens):\r\n",
        "          if w in self.word2vec and len(w) > 3:\r\n",
        "            embeddings.append((self.word2vec.get_vector(w) - self.mean) / self.std)\r\n",
        "          if w not in self.word2vec:\r\n",
        "            #pdb.set_trace()\r\n",
        "            left_word = np.zeros(300)\r\n",
        "            right_word = np.zeros(300)\r\n",
        "            if i > 0:\r\n",
        "              if tokens[i-1] in self.word2vec:\r\n",
        "                left_word = self.word2vec.get_vector(tokens[i-1])\r\n",
        "            if i< len(tokens)-1:\r\n",
        "              if tokens[i+1] in self.word2vec:\r\n",
        "                right_word = self.word2vec.get_vector(tokens[i+1])\r\n",
        "            new_word = left_word + right_word\r\n",
        "            if new_word.all()!=0:\r\n",
        "              embeddings.append(new_word)\r\n",
        "\r\n",
        "        return embeddings\r\n",
        "            \r\n",
        "    def __len__(self):\r\n",
        "        return self.data.shape[0]"
      ],
      "execution_count": null,
      "outputs": []
    },
    {
      "cell_type": "code",
      "metadata": {
        "id": "MgkReJjV_Tzr"
      },
      "source": [
        "dev = TwitterDatasetWithContext(dev_data, \"text\", \"emotion\", word2vec)"
      ],
      "execution_count": null,
      "outputs": []
    },
    {
      "cell_type": "code",
      "metadata": {
        "id": "PFf6py4l_byr"
      },
      "source": [
        "#%debug\r\n",
        "indexes = np.arange(len(dev))\r\n",
        "np.random.shuffle(indexes)\r\n",
        "example_indexes = indexes[::1000]\r\n",
        "\r\n",
        "examples = {\"features\": [np.sum(dev[i][\"feature\"], axis=0) for i in example_indexes], \r\n",
        "            \"targets\": [dev[i][\"target\"] for i in example_indexes]}\r\n",
        "print(len(examples[\"features\"]))"
      ],
      "execution_count": null,
      "outputs": []
    },
    {
      "cell_type": "code",
      "metadata": {
        "id": "DR6BDkDxCalZ"
      },
      "source": [
        "from torch.utils.data import DataLoader\r\n",
        "\r\n",
        "\r\n",
        "batch_size = 1024\r\n",
        "num_workers = 4\r\n",
        "\r\n",
        "def average_emb(batch):\r\n",
        "    features = [np.mean(b[\"feature\"], axis=0) for b in batch]\r\n",
        "    targets = [b[\"target\"] for b in batch]\r\n",
        "\r\n",
        "    return {\"features\": torch.FloatTensor(features), \"targets\": torch.LongTensor(targets).to(torch.float32)}\r\n",
        "\r\n",
        "\r\n",
        "train_size = math.ceil(len(dev) * 0.8)\r\n",
        "\r\n",
        "train, valid = random_split(dev, [train_size, len(dev) - train_size])\r\n",
        "\r\n",
        "train_loader = DataLoader(train, batch_size=batch_size, num_workers=num_workers, shuffle=True, drop_last=True, collate_fn=average_emb)\r\n",
        "valid_loader = DataLoader(valid, batch_size=batch_size, num_workers=num_workers, shuffle=False, drop_last=False, collate_fn=average_emb)"
      ],
      "execution_count": null,
      "outputs": []
    },
    {
      "cell_type": "code",
      "metadata": {
        "id": "mnpc3ytVCav6"
      },
      "source": [
        "import torch.nn as nn\r\n",
        "from torch.optim import Adam\r\n",
        "\r\n",
        "\r\n",
        "# Не забудь поиграться с параметрами ;)\r\n",
        "vector_size = dev.word2vec.vector_size\r\n",
        "num_classes = 2\r\n",
        "lr = 1e-2\r\n",
        "num_epochs = 2\r\n",
        "\r\n",
        "model = Net(300)\r\n",
        "model = model.cuda()\r\n",
        "criterion = nn.BCELoss()\r\n",
        "optimizer = torch.optim.Adam(model.parameters())\r\n",
        "#optimizer = optim.SGD(model.parameters(), lr=0.001, momentum=0.9)"
      ],
      "execution_count": null,
      "outputs": []
    },
    {
      "cell_type": "code",
      "metadata": {
        "id": "F4j8xYYtCa7Y"
      },
      "source": [
        "#%debug\r\n",
        "best_metric = np.inf\r\n",
        "for e in range(num_epochs):\r\n",
        "    training(model, optimizer, criterion, train_loader, e, device)\r\n",
        "    log = testing(model, criterion, valid_loader, device)\r\n",
        "    print(log)\r\n",
        "    if log[\"Test Loss\"] < best_metric:\r\n",
        "        torch.save(model.state_dict(), \"model.pt\")\r\n",
        "        best_metric = log[\"Test Loss\"]"
      ],
      "execution_count": null,
      "outputs": []
    },
    {
      "cell_type": "code",
      "metadata": {
        "id": "r8xPs__9C1IL"
      },
      "source": [
        "test_loader = DataLoader(\r\n",
        "    TwitterDatasetWithContext(test_data, \"text\", \"emotion\", word2vec), \r\n",
        "    batch_size=batch_size, \r\n",
        "    num_workers=num_workers, \r\n",
        "    shuffle=False,\r\n",
        "    drop_last=False, \r\n",
        "    collate_fn=average_emb)\r\n",
        "\r\n",
        "model.load_state_dict(torch.load(\"model.pt\", map_location=device))\r\n",
        "\r\n",
        "print(testing(model, criterion, test_loader, device=device))"
      ],
      "execution_count": null,
      "outputs": []
    },
    {
      "cell_type": "markdown",
      "metadata": {
        "id": "466CiY_LHp4J"
      },
      "source": [
        "2-ой способ:"
      ]
    },
    {
      "cell_type": "code",
      "metadata": {
        "id": "pamsS7aEEH0s"
      },
      "source": [
        "from torch.utils.data import Dataset, random_split\r\n",
        "import pdb;  \r\n",
        "\r\n",
        "\r\n",
        "class TwitterDatasetWithTfidf(Dataset):\r\n",
        "    def __init__(self, data: pd.DataFrame, feature_column: str, target_column: str, word2vec: gensim.models.Word2Vec, Dictionary):\r\n",
        "        self.tokenizer = nltk.WordPunctTokenizer()\r\n",
        "        \r\n",
        "        self.data = data\r\n",
        "\r\n",
        "        self.feature_column = feature_column\r\n",
        "        self.target_column = target_column\r\n",
        "\r\n",
        "        self.word2vec = word2vec\r\n",
        "\r\n",
        "        self.label2num = lambda label: 0 if label == 0 else 1\r\n",
        "        self.mean = np.mean(word2vec.vectors, axis=0)\r\n",
        "        self.std = np.std(word2vec.vectors, axis=0)\r\n",
        "        self.Dictionary = Dictionary\r\n",
        "\r\n",
        "    def __getitem__(self, item):\r\n",
        "        #pdb.set_trace()\r\n",
        "        text = self.data[self.feature_column][item]\r\n",
        "        label = self.label2num(self.data[self.target_column][item])\r\n",
        "\r\n",
        "        tokens = self.get_tokens_(text)\r\n",
        "        embeddings = self.get_embeddings_(tokens)\r\n",
        "\r\n",
        "        return {\"feature\": embeddings, \"target\": label}\r\n",
        "\r\n",
        "    def get_tokens_(self, text):\r\n",
        "        # Получи все токены из текста и профильтруй их\r\n",
        "        line = self.tokenizer.tokenize(text.lower())\r\n",
        "        filtered_line = [w for w in line if all(c not in string.punctuation for c in w) and len(w) > 3]\r\n",
        "        return filtered_line\r\n",
        "\r\n",
        "\r\n",
        "\r\n",
        "    def get_embeddings_(self, tokens):\r\n",
        "        # Получи эмбеддинги слов и усредни их\r\n",
        "        #embeddings = [(self.word2vec.get_vector(w) - self.mean) / self.std for w in tokens if w in self.word2vec and len(w) > 3]\r\n",
        "        embeddings = self.get_embeddings_preproc(tokens)\r\n",
        "\r\n",
        "        if len(embeddings) == 0:\r\n",
        "            embeddings = np.zeros((1, self.word2vec.vector_size))\r\n",
        "        else:\r\n",
        "            #embeddings = np.mean(embeddings, axis=0)\r\n",
        "            embeddings = np.array(embeddings)\r\n",
        "            if len(embeddings.shape) == 1:\r\n",
        "                \r\n",
        "                embeddings = embeddings.reshape(-1, 1)\r\n",
        "\r\n",
        "        return embeddings\r\n",
        "\r\n",
        "    def get_embeddings_preproc(self, tokens):\r\n",
        "        embeddings = []\r\n",
        "        for w in tokens:\r\n",
        "          if w in self.word2vec and len(w) > 3:\r\n",
        "            embedding_first_part = ((self.word2vec.get_vector(w) - self.mean) / self.std)\r\n",
        "            if w in self.Dictionary:\r\n",
        "              embedding_second_part = self.Dictionary[w]\r\n",
        "              final_embedding = embedding_first_part + embedding_second_part\r\n",
        "              embeddings.append(final_embedding)\r\n",
        "            else:\r\n",
        "              embeddings.append(embedding_first_part)\r\n",
        "            \r\n",
        "\r\n",
        "          if w not in self.word2vec and len(w) > 3 and w in self.Dictionary:\r\n",
        "            embeddings.append(self.Dictionary[w])\r\n",
        "\r\n",
        "        return embeddings\r\n",
        "  \r\n",
        "\r\n",
        "    def __len__(self):\r\n",
        "        return self.data.shape[0]"
      ],
      "execution_count": null,
      "outputs": []
    },
    {
      "cell_type": "code",
      "metadata": {
        "id": "EmIPl71QaHtT"
      },
      "source": [
        "new_corpus = []\r\n",
        "for text in dev_data['text']:\r\n",
        "  line = tokenizer.tokenize(text.lower())\r\n",
        "  filtered_line = [w for w in line if all(c not in string.punctuation for c in w) and len(w) > 3]\r\n",
        "  new_corpus.append(\" \".join(filtered_line))\r\n"
      ],
      "execution_count": null,
      "outputs": []
    },
    {
      "cell_type": "code",
      "metadata": {
        "id": "U5VPP6nK6PbP"
      },
      "source": [
        "from sklearn.feature_extraction.text import TfidfVectorizer\r\n",
        "#взять все слова не получилось т.к. не хватает памяти\r\n",
        "vectorizer = TfidfVectorizer(min_df=5)\r\n",
        "vectorizer.fit(new_corpus)"
      ],
      "execution_count": null,
      "outputs": []
    },
    {
      "cell_type": "code",
      "metadata": {
        "id": "Qbhe02JTjg8x"
      },
      "source": [
        "Matrix = vectorizer.transform(vectorizer.get_feature_names())"
      ],
      "execution_count": null,
      "outputs": []
    },
    {
      "cell_type": "code",
      "metadata": {
        "id": "FVY4xvY0pXnJ"
      },
      "source": [
        "from sklearn.decomposition import TruncatedSVD\r\n",
        "svd = TruncatedSVD(n_components=300)\r\n",
        "Matrix_for_tfidf= svd.fit_transform(Matrix)"
      ],
      "execution_count": null,
      "outputs": []
    },
    {
      "cell_type": "code",
      "metadata": {
        "id": "_BdxWryWlM4U"
      },
      "source": [
        "dict_words={}\r\n",
        "for i,w in enumerate(vectorizer.get_feature_names()):\r\n",
        "  dict_words[w] = Matrix_for_tfidf[i]"
      ],
      "execution_count": null,
      "outputs": []
    },
    {
      "cell_type": "code",
      "metadata": {
        "id": "iNvIXi0Brht2"
      },
      "source": [
        "dev = TwitterDatasetWithTfidf(dev_data, \"text\", \"emotion\", word2vec, dict_words)"
      ],
      "execution_count": null,
      "outputs": []
    },
    {
      "cell_type": "code",
      "metadata": {
        "id": "CMXbZOT2r1kX"
      },
      "source": [
        "#%debug\r\n",
        "indexes = np.arange(len(dev))\r\n",
        "np.random.shuffle(indexes)\r\n",
        "example_indexes = indexes[::1000]\r\n",
        "\r\n",
        "examples = {\"features\": [np.sum(dev[i][\"feature\"], axis=0) for i in example_indexes], \r\n",
        "            \"targets\": [dev[i][\"target\"] for i in example_indexes]}\r\n",
        "print(len(examples[\"features\"]))"
      ],
      "execution_count": null,
      "outputs": []
    },
    {
      "cell_type": "code",
      "metadata": {
        "id": "V6njB9zGBmeC"
      },
      "source": [
        "from torch.utils.data import DataLoader\r\n",
        "\r\n",
        "\r\n",
        "batch_size = 1024\r\n",
        "num_workers = 4\r\n",
        "\r\n",
        "def average_emb(batch):\r\n",
        "    features = [np.mean(b[\"feature\"], axis=0) for b in batch]\r\n",
        "    targets = [b[\"target\"] for b in batch]\r\n",
        "\r\n",
        "    return {\"features\": torch.FloatTensor(features), \"targets\": torch.LongTensor(targets).to(torch.float32)}\r\n",
        "\r\n",
        "\r\n",
        "train_size = math.ceil(len(dev) * 0.8)\r\n",
        "\r\n",
        "train, valid = random_split(dev, [train_size, len(dev) - train_size])\r\n",
        "\r\n",
        "train_loader = DataLoader(train, batch_size=batch_size, num_workers=num_workers, shuffle=True, drop_last=True, collate_fn=average_emb)\r\n",
        "valid_loader = DataLoader(valid, batch_size=batch_size, num_workers=num_workers, shuffle=False, drop_last=False, collate_fn=average_emb)"
      ],
      "execution_count": null,
      "outputs": []
    },
    {
      "cell_type": "code",
      "metadata": {
        "id": "n38G9436ErQR"
      },
      "source": [
        "import torch.nn as nn\r\n",
        "from torch.optim import Adam\r\n",
        "\r\n",
        "\r\n",
        "# Не забудь поиграться с параметрами ;)\r\n",
        "vector_size = 300\r\n",
        "num_classes = 2\r\n",
        "lr = 1e-2\r\n",
        "num_epochs = 2\r\n",
        "\r\n",
        "model = Net(300)\r\n",
        "model = model.cuda()\r\n",
        "criterion = nn.BCELoss()\r\n",
        "optimizer = torch.optim.Adam(model.parameters())\r\n",
        "#optimizer = optim.SGD(model.parameters(), lr=0.001, momentum=0.9)"
      ],
      "execution_count": null,
      "outputs": []
    },
    {
      "cell_type": "code",
      "metadata": {
        "id": "PnIOo1ltEur-"
      },
      "source": [
        "#%debug\r\n",
        "best_metric = np.inf\r\n",
        "for e in range(num_epochs):\r\n",
        "    training(model, optimizer, criterion, train_loader, e, device)\r\n",
        "    log = testing(model, criterion, valid_loader, device)\r\n",
        "    print(log)\r\n",
        "    if log[\"Test Loss\"] < best_metric:\r\n",
        "        torch.save(model.state_dict(), \"model.pt\")\r\n",
        "        best_metric = log[\"Test Loss\"]"
      ],
      "execution_count": null,
      "outputs": []
    },
    {
      "cell_type": "code",
      "metadata": {
        "id": "eOfitOjtR_Iz"
      },
      "source": [
        "\r\n",
        "test_loader = DataLoader(\r\n",
        "    TwitterDatasetWithTfidf(dev_data, \"text\", \"emotion\", word2vec, dict_words), \r\n",
        "    batch_size=batch_size, \r\n",
        "    num_workers=num_workers, \r\n",
        "    shuffle=False,\r\n",
        "    drop_last=False, \r\n",
        "    collate_fn=average_emb)\r\n",
        "\r\n",
        "model.load_state_dict(torch.load(\"model.pt\", map_location=device))\r\n",
        "\r\n",
        "print(testing(model, criterion, test_loader, device=device))"
      ],
      "execution_count": null,
      "outputs": []
    },
    {
      "cell_type": "markdown",
      "metadata": {
        "id": "DnRKSokrFBom"
      },
      "source": [
        "Выводы:"
      ]
    },
    {
      "cell_type": "markdown",
      "metadata": {
        "id": "vtd_60WSCUav"
      },
      "source": [
        "Исходя из accuracy на 3-ех задачах можно видеть, что результаты практически не отличаются друг от друга (0.7538064097444089, 0.75775390625, 0.75785546875). Скорее всего слова которых нет в словаре и которые мы берем из контекста практически не встречаются в тестовой выборке. А векторы которые мы получили из Tf-idf не сильно улучшают показатели качества модели."
      ]
    },
    {
      "cell_type": "code",
      "metadata": {
        "id": "tjMiBr4NFDF_"
      },
      "source": [
        ""
      ],
      "execution_count": null,
      "outputs": []
    }
  ]
}